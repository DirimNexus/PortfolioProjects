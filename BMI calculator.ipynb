{
 "cells": [
  {
   "cell_type": "code",
   "execution_count": 1,
   "id": "dac93dde",
   "metadata": {},
   "outputs": [
    {
     "name": "stdout",
     "output_type": "stream",
     "text": [
      "Welcome to the BMI calculator!\n",
      "Enter your height in m: 5.11\n",
      "Enter your weight in kg: 256\n",
      "Your bmi is 10, you are underweight.\n",
      "Thank you!!\n"
     ]
    }
   ],
   "source": [
    "print(\"Welcome to the BMI calculator!\")\n",
    "\n",
    "height = float(input(\"Enter your height in m: \"))\n",
    "\n",
    "weight = float(input(\"Enter your weight in kg: \"))\n",
    "\n",
    "bmi_cal =round(weight / height ** 2)\n",
    "\n",
    "if bmi_cal < 18.5:\n",
    "  print(f\"Your bmi is {bmi_cal}, you are underweight.\")\n",
    "  \n",
    "elif bmi_cal < 25:\n",
    "  print(f\"Your bmi is {bmi_cal}, your weight is normal.\")\n",
    "  \n",
    "elif bmi_cal < 30:\n",
    "  print (f\"Your bmi is {bmi_cal} are slightly overweight.\")\n",
    "  \n",
    "elif bmi_cal < 35:\n",
    "  print(f\"Your bmi is {bmi_cal}, you are obese.\")\n",
    "  \n",
    "else:\n",
    "  print(f\"Your bmi is {bmi_cal}, you are clinically obese.\")\n",
    "\n",
    "print(\"Thank you!!\")\n"
   ]
  },
  {
   "cell_type": "code",
   "execution_count": null,
   "id": "39f37645",
   "metadata": {},
   "outputs": [],
   "source": []
  },
  {
   "cell_type": "code",
   "execution_count": null,
   "id": "e0956f14",
   "metadata": {},
   "outputs": [],
   "source": []
  },
  {
   "cell_type": "code",
   "execution_count": null,
   "id": "a08cf3a3",
   "metadata": {},
   "outputs": [],
   "source": []
  }
 ],
 "metadata": {
  "kernelspec": {
   "display_name": "Python 3 (ipykernel)",
   "language": "python",
   "name": "python3"
  },
  "language_info": {
   "codemirror_mode": {
    "name": "ipython",
    "version": 3
   },
   "file_extension": ".py",
   "mimetype": "text/x-python",
   "name": "python",
   "nbconvert_exporter": "python",
   "pygments_lexer": "ipython3",
   "version": "3.10.9"
  }
 },
 "nbformat": 4,
 "nbformat_minor": 5
}
