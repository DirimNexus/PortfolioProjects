{
 "cells": [
  {
   "cell_type": "code",
   "execution_count": 1,
   "id": "28c62546",
   "metadata": {},
   "outputs": [
    {
     "name": "stdout",
     "output_type": "stream",
     "text": [
      "Which year do you want to check? 2022\n",
      "Not leap year\n"
     ]
    }
   ],
   "source": [
    "\n",
    "year = int(input(\"Which year do you want to check? \"))\n",
    "\n",
    "if year % 4 == 0:\n",
    "  if year % 100 == 0:\n",
    "    if year % 400 == 0:\n",
    "      print(\"leap year\")\n",
    "    else:\n",
    "      print(\"not leap year\")\n",
    "    print(\"Not leap year\")\n",
    "  else:\n",
    "    print(\"leap year\")\n",
    "  print(\"leap year\")\n",
    "else: \n",
    "  print(\"Not leap year\")\n",
    "\n"
   ]
  },
  {
   "cell_type": "code",
   "execution_count": null,
   "id": "4699462b",
   "metadata": {},
   "outputs": [],
   "source": []
  }
 ],
 "metadata": {
  "kernelspec": {
   "display_name": "Python 3 (ipykernel)",
   "language": "python",
   "name": "python3"
  },
  "language_info": {
   "codemirror_mode": {
    "name": "ipython",
    "version": 3
   },
   "file_extension": ".py",
   "mimetype": "text/x-python",
   "name": "python",
   "nbconvert_exporter": "python",
   "pygments_lexer": "ipython3",
   "version": "3.10.9"
  }
 },
 "nbformat": 4,
 "nbformat_minor": 5
}
