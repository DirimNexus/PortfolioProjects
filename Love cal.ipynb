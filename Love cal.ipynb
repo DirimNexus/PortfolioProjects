{
 "cells": [
  {
   "cell_type": "code",
   "execution_count": 1,
   "id": "c9d1ce9e",
   "metadata": {},
   "outputs": [
    {
     "name": "stdout",
     "output_type": "stream",
     "text": [
      "Welcome to the Love Calculator!\n",
      "What is your name? \n",
      "chioma\n",
      "What is their name? \n",
      "eric\n",
      "22\n",
      "Your score is 22.\n"
     ]
    }
   ],
   "source": [
    "print(\"Welcome to the Love Calculator!\")\n",
    "name1 = input(\"What is your name? \\n\")\n",
    "name2 = input(\"What is their name? \\n\")\n",
    "\n",
    "\n",
    "\n",
    "name_string = name1 + name2\n",
    "lower_case = name_string.lower()\n",
    "\n",
    "t = lower_case.count(\"t\")\n",
    "r = lower_case.count(\"r\")\n",
    "u = lower_case.count(\"u\")\n",
    "e = lower_case.count(\"e\")\n",
    "\n",
    "true = t + r + u + e\n",
    "\n",
    "l = lower_case.count(\"l\")\n",
    "o = lower_case.count(\"o\")\n",
    "v = lower_case.count(\"v\")\n",
    "e = lower_case.count(\"e\")\n",
    "\n",
    "love = l + o + v + e\n",
    "\n",
    "love_score = int(str(true) + str(love))\n",
    "\n",
    "print(love_score)\n",
    "\n",
    "if (love_score < 10) or (love_score > 90):\n",
    "  print(f\"Your love score is {love_score}, you go together like coke and mentos.\")\n",
    "elif (love_score >= 40) and (love_score <= 50):\n",
    "  print(f\"Your score is {love_score}, you are alright together.\")\n",
    "else:\n",
    "  print(f\"Your score is {love_score}.\")\n"
   ]
  },
  {
   "cell_type": "code",
   "execution_count": null,
   "id": "437e0c65",
   "metadata": {},
   "outputs": [],
   "source": []
  },
  {
   "cell_type": "code",
   "execution_count": null,
   "id": "0a00a259",
   "metadata": {},
   "outputs": [],
   "source": []
  },
  {
   "cell_type": "code",
   "execution_count": null,
   "id": "805cd0fb",
   "metadata": {},
   "outputs": [],
   "source": []
  },
  {
   "cell_type": "code",
   "execution_count": null,
   "id": "f1a09674",
   "metadata": {},
   "outputs": [],
   "source": []
  },
  {
   "cell_type": "code",
   "execution_count": null,
   "id": "7585922c",
   "metadata": {},
   "outputs": [],
   "source": []
  }
 ],
 "metadata": {
  "kernelspec": {
   "display_name": "Python 3 (ipykernel)",
   "language": "python",
   "name": "python3"
  },
  "language_info": {
   "codemirror_mode": {
    "name": "ipython",
    "version": 3
   },
   "file_extension": ".py",
   "mimetype": "text/x-python",
   "name": "python",
   "nbconvert_exporter": "python",
   "pygments_lexer": "ipython3",
   "version": "3.10.9"
  }
 },
 "nbformat": 4,
 "nbformat_minor": 5
}
