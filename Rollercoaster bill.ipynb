{
 "cells": [
  {
   "cell_type": "code",
   "execution_count": 5,
   "id": "271c93d6",
   "metadata": {},
   "outputs": [
    {
     "name": "stdout",
     "output_type": "stream",
     "text": [
      "Welcome to the rollercoaster!\n",
      "What is your height in cm? 245\n",
      "You can ride the rollercoaster!\n",
      "What is your age? 17\n",
      "Youth tickets are $7.\n",
      "Do you want a photo taken? Y or N. Y\n",
      "Your final bill is $10\n"
     ]
    }
   ],
   "source": [
    "print(\"Welcome to the rollercoaster!\")\n",
    "height = int(input(\"What is your height in cm? \"))\n",
    "bill = 0\n",
    "\n",
    "if height >= 120:\n",
    "  print(\"You can ride the rollercoaster!\")\n",
    "  age = int(input(\"What is your age? \"))\n",
    "  if age < 12:\n",
    "    bill = 5\n",
    "    print(\"Child tickets are $5.\")\n",
    "  elif age <= 18:\n",
    "    bill = 7\n",
    "    print(\"Youth tickets are $7.\")\n",
    "  elif age >= 45 and age <= 55:\n",
    "    print(\"Everything is going to be ok. Have a free ride on us!\")\n",
    "  else:\n",
    "    bill = 12\n",
    "    print(\"Adult tickets are $12.\")\n",
    "  \n",
    "  wants_photo = input(\"Do you want a photo taken? Y or N. \")\n",
    "  if wants_photo == \"Y\":\n",
    "    bill += 3\n",
    "  \n",
    "  print(f\"Your final bill is ${bill}\")\n",
    "\n",
    "else:\n",
    "  print(\"Sorry, you have to grow taller before you can ride.\")\n"
   ]
  },
  {
   "cell_type": "code",
   "execution_count": null,
   "id": "0b385051",
   "metadata": {},
   "outputs": [],
   "source": []
  },
  {
   "cell_type": "code",
   "execution_count": 2,
   "id": "0d730f1f",
   "metadata": {},
   "outputs": [
    {
     "data": {
      "text/plain": [
       "225"
      ]
     },
     "execution_count": 2,
     "metadata": {},
     "output_type": "execute_result"
    }
   ],
   "source": []
  },
  {
   "cell_type": "code",
   "execution_count": null,
   "id": "6d2b1f2e",
   "metadata": {},
   "outputs": [],
   "source": []
  }
 ],
 "metadata": {
  "kernelspec": {
   "display_name": "Python 3 (ipykernel)",
   "language": "python",
   "name": "python3"
  },
  "language_info": {
   "codemirror_mode": {
    "name": "ipython",
    "version": 3
   },
   "file_extension": ".py",
   "mimetype": "text/x-python",
   "name": "python",
   "nbconvert_exporter": "python",
   "pygments_lexer": "ipython3",
   "version": "3.10.9"
  }
 },
 "nbformat": 4,
 "nbformat_minor": 5
}
